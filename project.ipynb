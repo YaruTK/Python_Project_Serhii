{
 "cells": [
  {
   "cell_type": "markdown",
   "metadata": {},
   "source": [
    "# Belegaufgabe zum Blockkurs Python\n",
    "## Simulation mit vtk\n",
    "Ziel ist es ein Modul zu schreiben, welches eine Windmühle simuliert. Die Windmühle soll dabei nur\n",
    "aus primitiven Objekten zusammengesetzt werden und einen Rotor besitzen der sich während der\n",
    "Simulation dreht. Außerdem soll eine kleine GUI geschrieben werden (mit PyQt), worüber sich die\n",
    "Simulation starten lässt und sich entsprechende Parameter (Rotationsgeschwindigkeit, Höhe, etc.)\n",
    "einstellen lassen! Genutzt werden sollen die in der Übung vorgestellten vtk-Objektwrapperklassen!\n",
    "\n",
    "------\n",
    "The aim is to write a module that simulates a windmill. The windmill should only be made up of primitive objects and have a rotor that rotates during the simulation. A small GUI should also be written (with PyQt) through which the simulation can be started and the relevant parameters (rotation speed, height, etc.) can be set! The vtk object wrapper classes presented in the exercise should be used!\n",
    "\n"
   ]
  },
  {
   "cell_type": "markdown",
   "metadata": {},
   "source": [
    "# Todo\n",
    "- [ ] class for objects\n",
    "- [ ] assemle windmill\n",
    "- [ ] add GUI\n",
    "- [ ] vtk ???\n",
    "- [ ] what are wrappers?"
   ]
  },
  {
   "cell_type": "code",
   "execution_count": 20,
   "metadata": {},
   "outputs": [
    {
     "name": "stdout",
     "output_type": "stream",
     "text": [
      "dict_keys(['Steel', 'Wood', 'Glass', 'Concrete'])\n"
     ]
    }
   ],
   "source": [
    "#import vtk\n",
    "\n",
    "\n",
    "material_dict = {}\n",
    "\n",
    "def add_material(name: str, material_properties: tuple):\n",
    "    if name not in material_dict:\n",
    "        material_dict[name] = material_properties\n",
    "    else: \n",
    "        raise Exception(\"Such material already exists\")\n",
    "    \n",
    "def get_material_list():\n",
    "    return material_dict.keys()\n",
    "\n",
    "\n",
    "add_material(\"Steel\", (\"grey\", 600, 90))  # colour, how strong it is, how it heats\n",
    "add_material(\"Wood\", (\"brown\", 100, 30))\n",
    "add_material(\"Glass\", (\"transparent\", 20, 40))\n",
    "add_material(\"Concrete\", (\"grey\", 200, 20))\n",
    "\n",
    "print(get_material_list())\n",
    "\n",
    "class Structure:\n",
    "    def __init__(self, name: str, mass: float, material: str, *dimensions: float):\n",
    "        self._name = name\n",
    "        self._mass = mass\n",
    "        if material not in material_dict:\n",
    "            raise Exception(\"No such material known\")\n",
    "        else:\n",
    "            self._material = material\n",
    "        self._dim = []\n",
    "        if len(dimensions) != 2:\n",
    "            raise ValueError(\"Need exactly 2 dimensions\")\n",
    "        else:\n",
    "            self._dim = sorted(dimensions)\n",
    "\n",
    "    def __str__(self):\n",
    "        return \"This is a %s %s of %d kg mass, made of %s. The size is %dx%d\" % (self.__class__.__name__, self._name, self._mass, self._material, self._dim[0], self._dim[1])\n",
    "\n",
    "structure_list = []\n",
    "\n",
    "class Rotor(Structure):\n",
    "    def __init__(self,  name: str, mass: float, material: str, max_rpm: float, model: str,  efficiency: float, *dimensions: float):\n",
    "        super().__init__(name, mass, material, *dimensions)\n",
    "        self._max_rpm = max_rpm\n",
    "        self._model = model\n",
    "        self._efficiency = efficiency\n",
    "\n",
    "rotor_list = []\n",
    "\n",
    "class Wing(Structure):\n",
    "        def __init__(self,  name: str, mass: float, material: str, number_of_wings: int, *dimensions: float):\n",
    "            super().__init__(name, mass, material, *dimensions)\n",
    "            self._now = number_of_wings\n",
    "\n",
    "wing_list = []\n",
    "\n"
   ]
  },
  {
   "cell_type": "markdown",
   "metadata": {},
   "source": [
    "There are objects:\n",
    "\n",
    "- Fundament (name, mass, width, length, material)\n",
    "- Tube (name, mass, diameter, heigth, material)\n",
    "- Rotor (name, mass, max_rpm, width=length, height, efficiency, model)\n",
    "- Wing (name, mass, number_of_wings, material, length, width)\n",
    "---\n",
    "therefore \n",
    "- class Structure(name, mass, dimensions, material) can be used for everything ->\n",
    "- Rotor is an ingeritage of sructure with max_rpm, model and efficiency parameter\n",
    "- Wing is an ingeritage of structure with number_of_wings parameter"
   ]
  },
  {
   "cell_type": "code",
   "execution_count": 21,
   "metadata": {},
   "outputs": [
    {
     "name": "stdout",
     "output_type": "stream",
     "text": [
      "This is a Structure Fundament of 1000 kg mass, made of Concrete. The size is 20x30\n",
      "This is a Rotor Rotor of 420 kg mass, made of Steel. The size is 30x40\n",
      "This is a Structure Tube of 650 kg mass, made of Steel. The size is 2x60\n"
     ]
    }
   ],
   "source": [
    "\n",
    "Fundament = Structure(\"Fundament\", 1000.0, \"Concrete\", 20, 30)\n",
    "structure_list.append(Fundament)\n",
    "\n",
    "print(Fundament)\n",
    "    \n",
    "Rotor1 = Rotor(\"Rotor\", 420, \"Steel\", 1400, \"mk. 1\", 0.6, 40, 30)   \n",
    "rotor_list.append(Fundament)\n",
    "\n",
    "print(Rotor1) \n",
    "\n",
    "Tube1 = Structure(\"Tube\", 650.0, \"Steel\", 2, 60)\n",
    "structure_list.append(Tube1)\n",
    "\n",
    "print(Tube1)"
   ]
  },
  {
   "cell_type": "code",
   "execution_count": null,
   "metadata": {},
   "outputs": [],
   "source": []
  }
 ],
 "metadata": {
  "kernelspec": {
   "display_name": "base",
   "language": "python",
   "name": "python3"
  },
  "language_info": {
   "codemirror_mode": {
    "name": "ipython",
    "version": 3
   },
   "file_extension": ".py",
   "mimetype": "text/x-python",
   "name": "python",
   "nbconvert_exporter": "python",
   "pygments_lexer": "ipython3",
   "version": "3.12.4"
  }
 },
 "nbformat": 4,
 "nbformat_minor": 2
}
